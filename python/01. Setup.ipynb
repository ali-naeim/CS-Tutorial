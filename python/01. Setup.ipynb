{
 "cells": [
  {
   "cell_type": "markdown",
   "metadata": {},
   "source": [
    "# 01- Setup"
   ]
  },
  {
   "cell_type": "markdown",
   "metadata": {},
   "source": [
    "## Table of Contents:\n",
    "* [1. Python Setup](#python-setup)\n",
    "* [2. Conda Commands](#conda-commands)\n",
    "* [3. FAQ](#faq)"
   ]
  },
  {
   "cell_type": "markdown",
   "metadata": {},
   "source": [
    "<a class=\"anchor\" id=\"python-setup\"></a>\n",
    "## 1. Python Setup\n",
    "\n",
    "There are many ways to run Python.\n",
    "\n",
    "Later we'll the difference between running a Python `.py` script or running Python code in a notebook environment. Either way you will still want to install Python.\n",
    "\n",
    "**Note:** We are using windows subsystem for linux here. **If you are in linux, skip step 1.**"
   ]
  },
  {
   "cell_type": "markdown",
   "metadata": {},
   "source": [
    "1. Install ubuntu and activate **windows subsystem for linux**.\n",
    "    * [Tutorial](https://itsfoss.com/install-bash-on-windows/)\n",
    "    \n",
    "---"
   ]
  },
  {
   "cell_type": "markdown",
   "metadata": {},
   "source": [
    "2. Install **Anaconda**.\n",
    "    * [Tutorial](https://www.digitalocean.com/community/tutorials/how-to-install-the-anaconda-python-distribution-on-ubuntu-20-04)\n",
    "    * Install [pip](https://linuxize.com/post/how-to-install-pip-on-ubuntu-18.04/)\n",
    "\n",
    "Anaconda installs Python and is an easy to use development environment and navigator launch tool.\n",
    "\n",
    "\n",
    "__From Wikipedia__:\n",
    "- **Anaconda** is a distribution of the Python and R programming languages for scientific computing, that aims to simplify package management and deployment.\n",
    "- A package manager or package-management system is a collection of software tools that automates the process of installing, upgrading, configuring, and removing computer programs for a computer's operating system in a consistent manner.\n",
    "\n",
    "---"
   ]
  },
  {
   "cell_type": "markdown",
   "metadata": {},
   "source": [
    "3. Download and install **[VSCode](https://code.visualstudio.com/download)** from .\n",
    "\n",
    "___"
   ]
  },
  {
   "cell_type": "markdown",
   "metadata": {},
   "source": [
    "After doing steps 1-3, run these commands to make sure everything is setup:\n",
    "- `code --version`\n",
    "- `conda --version`\n",
    "\n",
    "You should see `conda` and `vscode` installation versions."
   ]
  },
  {
   "cell_type": "markdown",
   "metadata": {},
   "source": [
    "## 2. Running Python Code\n",
    "\n",
    "- There are several ways to run Python code.\n",
    "- First let's discuss the various options for development environments. There are 3 main types of environments:\n",
    "    * Text Editors\n",
    "    * Full IDEs\n",
    "    * Notebook Environments\n",
    "    \n",
    "    \n",
    "**Note:** Development environments are a personal choice highly dependent on personal preference."
   ]
  },
  {
   "cell_type": "markdown",
   "metadata": {},
   "source": [
    "### 2.1 Text Editors\n",
    "\n",
    "- General editors for any text files.\n",
    "- Work with a variety of file types.\n",
    "- Can be customized with plugins and add-ons.\n",
    "- Keep in mind, most are not desinged with only Python in mind.\n",
    "\n",
    "Most popular: VSCode, Submile Text, and Atom."
   ]
  },
  {
   "cell_type": "markdown",
   "metadata": {},
   "source": [
    "### 2.2 Full IDEs\n",
    "\n",
    "- Development environments designed specifically for Python.\n",
    "- Larger Programs\n",
    "- Only community editions are free.\n",
    "- Designed specifically for Python, lots of extra functionality.\n",
    "\n",
    "Most popular: PyCharm and Spyder."
   ]
  },
  {
   "cell_type": "markdown",
   "metadata": {},
   "source": [
    "### 2.3 Notebook Environments\n",
    "\n",
    "- Great for learning.\n",
    "- See input and output next to each other.\n",
    "- Support in-line markdown notes, visualization, videos, and more.\n",
    "- Special file formats that are not `.py`.\n",
    "\n",
    "Most popular: Jupyter Notebook."
   ]
  },
  {
   "cell_type": "markdown",
   "metadata": {},
   "source": [
    "<a class=\"anchor\" id=\"conda-commands\"></a>\n",
    "## 2. Conda Commands"
   ]
  },
  {
   "cell_type": "markdown",
   "metadata": {},
   "source": [
    "We use conda for python package management.\n",
    "\n",
    "Here is a list of useful conda commands:"
   ]
  },
  {
   "cell_type": "markdown",
   "metadata": {},
   "source": [
    "|Description|Command|\n",
    "|:--|:--|\n",
    "|**List** of Environments|`conda env list`|\n",
    "|**Create** Environment|`conda create --name env_name`|\n",
    "|**Create** Environment with pre-installed python|`conda create --name env_name python=3.7`|\n",
    "|**Remove** Environment|`conda remove --name env_name --all`|\n",
    "|**Activate** an Environment|`conda activate env_name`|\n",
    "|**Deactivate** Environment|`conda deactivate env_name`|"
   ]
  },
  {
   "cell_type": "markdown",
   "metadata": {},
   "source": [
    "<a class=\"anchor\" id=\"faq\"></a>\n",
    "## 3. FAQ"
   ]
  },
  {
   "cell_type": "markdown",
   "metadata": {},
   "source": [
    "1. How can I launch a jupyter notebook in my computer?\n",
    "\n",
    "**Answer**: Run `jupyter notebook` in your terminal."
   ]
  },
  {
   "cell_type": "markdown",
   "metadata": {},
   "source": [
    "2. I'm getting an error when trying to run `jupyter notebook` or `jupyter lab` to run notebook.\n",
    "\n",
    "![jupyter-error](./images/jupyter-error.png)"
   ]
  },
  {
   "cell_type": "markdown",
   "metadata": {},
   "source": [
    "**Answer**: Follow these steps:\n",
    "1. In your terminal run `jupyter notebook --generate-config`.\n",
    "2. It will generate a config file at: `~/.jupyter/jupyter_notebook_config.py`\n",
    "3. Open `~/.jupyter/jupyter_notebook_config.py` file, look for `c.NotebookApp.use_redirect_file`.\n",
    "4. If `c.NotebookApp.use_redirect_file` exist, uncomment it and set it to `False`. Otherwise add it at the end of the file like this: `c.NotebookApp.use_redirect_file = False`\n"
   ]
  },
  {
   "cell_type": "markdown",
   "metadata": {},
   "source": [
    "3. What is the difference between a **package** and **library**?\n",
    "\n",
    "**Module** is a file which contains various Python functions and global variables. It is simply just .py extension file which has python executable code.\n",
    "\n",
    "**Package** is a collection of modules. It must contain an init.py file as a flag so that the python interpreter processes it as such. The init.py could be an empty file without causing issues.\n",
    "\n",
    "**Library** is a collection of packages.\n",
    "\n",
    "**Framework** is a collection of libraries. This is the architecture of the program.\n",
    "\n",
    "\n",
    "**Read more [here](https://www.geeksforgeeks.org/what-is-the-difference-between-pythons-module-package-and-library/)**"
   ]
  }
 ],
 "metadata": {
  "kernelspec": {
   "display_name": "Python 3",
   "language": "python",
   "name": "python3"
  },
  "language_info": {
   "codemirror_mode": {
    "name": "ipython",
    "version": 3
   },
   "file_extension": ".py",
   "mimetype": "text/x-python",
   "name": "python",
   "nbconvert_exporter": "python",
   "pygments_lexer": "ipython3",
   "version": "3.7.6"
  }
 },
 "nbformat": 4,
 "nbformat_minor": 4
}

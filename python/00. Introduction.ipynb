{
 "cells": [
  {
   "cell_type": "markdown",
   "metadata": {},
   "source": [
    "# Introduction\n",
    "\n",
    "- Python was created in 1990 by [Guido van Rossum](https://en.wikipedia.org/wiki/Guido_van_Rossum).\n",
    "- Python 3 released in 2008.\n",
    "- Specifically designed as an easy to use language.\n",
    "- High focus on readability of code."
   ]
  },
  {
   "cell_type": "markdown",
   "metadata": {},
   "source": [
    "## Why Python\n",
    "\n",
    "* Why choose python?\n",
    "    - Designed for clear, logical code that is easy to read and learn.\n",
    "    - Lots of existing libraries and framework written in Python allowing users to apply Python to a wide variety of tasks.\n",
    "    - Focuses on optimizing developer time, rather than a computer's processing time.\n",
    "    - Great [documentation](https://docs.python.org/3/) online.\n",
    "\n",
    "---\n",
    "\n",
    "* What can you do with python?\n",
    "    - Automate Simple tasks.\n",
    "        * Searching for file and editing them.\n",
    "        * Scraping information from a website.\n",
    "        * Reading and editing excel files.\n",
    "        * Work with PDFs.\n",
    "        * Automate emails and text messages.\n",
    "        * Fill out Form.\n",
    "    - Data science and machine learning.\n",
    "        * Analyze large data files.\n",
    "        * Create visualizations.\n",
    "        * Perform machine learning tasks.\n",
    "        * Create and run predictive algorithms.\n",
    "    - Create websites.\n",
    "        * Use web frameworks such as Django and Flask to handle the backend of a website and user data.\n",
    "        * Create interactive dashboards for users.\n",
    "        "
   ]
  },
  {
   "cell_type": "markdown",
   "metadata": {},
   "source": [
    "# Syllabus\n",
    "\n",
    "1. Python Data Structures Basics\n",
    "2. Comparison Operators\n",
    "3. Statements\n",
    "4. Methods and Functions\n",
    "5. Object Oriented Programming\n",
    "6. Modules and Packages"
   ]
  }
 ],
 "metadata": {
  "kernelspec": {
   "display_name": "Python 3",
   "language": "python",
   "name": "python3"
  },
  "language_info": {
   "codemirror_mode": {
    "name": "ipython",
    "version": 3
   },
   "file_extension": ".py",
   "mimetype": "text/x-python",
   "name": "python",
   "nbconvert_exporter": "python",
   "pygments_lexer": "ipython3",
   "version": "3.8.5"
  }
 },
 "nbformat": 4,
 "nbformat_minor": 4
}

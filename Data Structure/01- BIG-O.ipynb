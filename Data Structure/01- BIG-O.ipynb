{
 "cells": [
  {
   "cell_type": "markdown",
   "metadata": {},
   "source": [
    "# 01- Big-O"
   ]
  },
  {
   "cell_type": "markdown",
   "metadata": {},
   "source": [
    "## Table of Contents:\n",
    "* [1. Time Complexity](#time-complexity)\n",
    "    * [1. File Transfer Program](#file-transfer-problem)\n",
    "    * [1. Common Big-Os](#common-big-o)\n",
    "    * [1. Examples](#examples)\n",
    "* [2. Space Complexity](#space-complexity)"
   ]
  },
  {
   "cell_type": "markdown",
   "metadata": {},
   "source": [
    "<a class=\"anchor\" id=\"time-complexity\"></a>\n",
    "## 1. Time Complexity"
   ]
  },
  {
   "cell_type": "markdown",
   "metadata": {},
   "source": [
    "<a class=\"anchor\" id=\"file-transfer-problem\"></a>\n",
    "### 1.1 File Transfer Problem\n",
    "**How to transfer a file?**\n",
    "1. plane: O(1)\n",
    "2. email: O(s)"
   ]
  },
  {
   "cell_type": "markdown",
   "metadata": {},
   "source": [
    "<a class=\"anchor\" id=\"common-big-o\"></a>\n",
    "### 1.2 Common Big-Os\n",
    "- O(1)\n",
    "- O(Log N)\n",
    "- O(N)\n",
    "- O(N Log N)\n",
    "- O(N^2)\n",
    "- O(2^N)"
   ]
  },
  {
   "cell_type": "markdown",
   "metadata": {},
   "source": [
    "<a class=\"anchor\" id=\"examples\"></a>\n",
    "### 1.3 Examples"
   ]
  },
  {
   "cell_type": "markdown",
   "metadata": {},
   "source": [
    "```python\n",
    "for i in range(n):\n",
    "    for j in range(n):\n",
    "        # O(1) operation here\n",
    "```"
   ]
  },
  {
   "cell_type": "markdown",
   "metadata": {},
   "source": [
    "```python\n",
    "for i in range(n):\n",
    "    for j in range(m):\n",
    "        # O(1) operation here\n",
    "```"
   ]
  },
  {
   "cell_type": "markdown",
   "metadata": {},
   "source": [
    "**Linear Search**\n",
    "```python\n",
    "for item in mylist:\n",
    "    if item == \"target\":\n",
    "        print(\"found it\")\n",
    "```"
   ]
  },
  {
   "cell_type": "markdown",
   "metadata": {},
   "source": [
    "**Binary Search**"
   ]
  },
  {
   "cell_type": "markdown",
   "metadata": {},
   "source": [
    "![array](./images/binary-list.jpg)"
   ]
  },
  {
   "cell_type": "markdown",
   "metadata": {},
   "source": [
    "![array](./images/binary-graph.jpg)"
   ]
  },
  {
   "cell_type": "markdown",
   "metadata": {},
   "source": [
    "<a class=\"anchor\" id=\"space-complexity\"></a>\n",
    "## 2. Space Complexity"
   ]
  }
 ],
 "metadata": {
  "kernelspec": {
   "display_name": "Python 3",
   "language": "python",
   "name": "python3"
  },
  "language_info": {
   "codemirror_mode": {
    "name": "ipython",
    "version": 3
   },
   "file_extension": ".py",
   "mimetype": "text/x-python",
   "name": "python",
   "nbconvert_exporter": "python",
   "pygments_lexer": "ipython3",
   "version": "3.7.6"
  }
 },
 "nbformat": 4,
 "nbformat_minor": 4
}
